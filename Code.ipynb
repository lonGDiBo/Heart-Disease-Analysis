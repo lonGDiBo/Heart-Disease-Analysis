{
 "cells": [
  {
   "cell_type": "markdown",
   "id": "0e6e3281",
   "metadata": {},
   "source": [
    "# Trực quan hóa"
   ]
  },
  {
   "cell_type": "code",
   "execution_count": 4,
   "id": "11df06bb",
   "metadata": {
    "scrolled": true
   },
   "outputs": [
    {
     "ename": "SyntaxError",
     "evalue": "(unicode error) 'unicodeescape' codec can't decode bytes in position 72-73: malformed \\N character escape (77371528.py, line 5)",
     "output_type": "error",
     "traceback": [
      "\u001b[1;36m  Input \u001b[1;32mIn [4]\u001b[1;36m\u001b[0m\n\u001b[1;33m    df = pd.read_csv(\"F:\\Hành trình leo núi 8 năm\\Ki2_Nam2\\Nhap_mon_Python\\Nhom_29_Phan_tich_kha_nang_mac_benh_tim\\Data\\heart_disease_dataset.csv\")\u001b[0m\n\u001b[1;37m                                                                                                                                                  ^\u001b[0m\n\u001b[1;31mSyntaxError\u001b[0m\u001b[1;31m:\u001b[0m (unicode error) 'unicodeescape' codec can't decode bytes in position 72-73: malformed \\N character escape\n"
     ]
    }
   ],
   "source": [
    "import pandas as pd\n",
    "import numpy as np\n",
    "import matplotlib.pyplot as plt\n",
    "import seaborn as sns\n",
    "df = pd.read_csv(\"D:\\heart_disease_dataset.csv\")\n",
    "thal_1 = df[df.restecg == 0]\n",
    "thal_2 = df[df.restecg == 1]\n",
    "thal_3 = df[df.restecg == 2]\n",
    "thal_1_nor = np.sum(np.array(thal_1['target']) == 0)\n",
    "thal_2_nor = np.sum(np.array(thal_2['target']) == 0)\n",
    "thal_3_nor = np.sum(np.array(thal_3['target']) == 0)\n",
    "thal_1_nnor = np.sum(np.array(thal_1['target']) == 1)\n",
    "thal_2_nnor = np.sum(np.array(thal_2['target']) == 1)\n",
    "thal_3_nnor = np.sum(np.array(thal_3['target']) == 1)\n",
    "nor = (thal_1_nor, thal_2_nor, thal_3_nor)\n",
    "not_nor = (thal_1_nnor, thal_2_nnor, thal_3_nnor)\n",
    "\n",
    "ind = np.arange(len(nor)) \n",
    "width = 0.35 \n",
    "\n",
    "fig, ax = plt.subplots()\n",
    "rects1 = ax.bar(ind - width / 2, nor, width,\n",
    "                label = 'Người bình thường')\n",
    "rects2 = ax.bar(ind + width / 2, not_nor, width,\n",
    "                label = 'Người bệnh')\n",
    "\n",
    "ax.set_ylabel('Scores')\n",
    "ax.set_title('Trạng thái điện tâm đồ lúc nghỉ')\n",
    "ax.set_xticks(ind)\n",
    "ax.set_xticklabels(('Giá trị 0', 'Giá trị 1', 'Giá trị 2'))\n",
    "ax.legend()\n",
    "print(thal_1_nor)\n",
    "plt.show()\n"
   ]
  },
  {
   "cell_type": "code",
   "execution_count": null,
   "id": "0794b674",
   "metadata": {},
   "outputs": [
    {
     "data": {
      "image/png": "[encoded data removed]",
      "text/plain": [
       "<Figure size 432x288 with 1 Axes>"
      ]
     },
     "metadata": {
      "needs_background": "light"
     },
     "output_type": "display_data"
    }
   ],
   "source": [
    "thal_1 = df[df.slope == 0]\n",
    "thal_2 = df[df.slope == 1]\n",
    "thal_3 = df[df.slope == 2]\n",
    "thal_1_nor = np.sum(np.array(thal_1['target']) == 0)\n",
    "thal_2_nor = np.sum(np.array(thal_2['target']) == 0)\n",
    "thal_3_nor = np.sum(np.array(thal_3['target']) == 0)\n",
    "thal_1_nnor = np.sum(np.array(thal_1['target']) == 1)\n",
    "thal_2_nnor = np.sum(np.array(thal_2['target']) == 1)\n",
    "thal_3_nnor = np.sum(np.array(thal_3['target']) == 1)\n",
    "nor = (thal_1_nor, thal_2_nor, thal_3_nor)\n",
    "not_nor = (thal_1_nnor, thal_2_nnor, thal_3_nnor)\n",
    "\n",
    "ind = np.arange(len(nor)) \n",
    "width = 0.35 \n",
    "\n",
    "fig, ax = plt.subplots()\n",
    "rects1 = ax.bar(ind - width / 2, nor, width, label = 'Người bình thường')\n",
    "rects2 = ax.bar(ind + width / 2, not_nor, width, label = 'Người bệnh')\n",
    "\n",
    "ax.set_ylabel('Scores')\n",
    "ax.set_title('Độ dốc của đoạn ST khi tập thể dục')\n",
    "ax.set_xticks(ind)\n",
    "ax.set_xticklabels(('Dốc lên', 'Phẳng', 'Dốc xuống'))\n",
    "ax.legend()\n",
    "\n",
    "plt.show()"
   ]
  },
  {
   "cell_type": "code",
   "execution_count": null,
   "id": "9a9c92d3",
   "metadata": {},
   "outputs": [
    {
     "data": {
      "text/plain": [
       "<AxesSubplot:xlabel='target', ylabel='oldpeak'>"
      ]
     },
     "execution_count": 26,
     "metadata": {},
     "output_type": "execute_result"
    },
    {
     "data": {
      "image/png": "[encoded data removed]",
      "text/plain": [
       "<Figure size 432x288 with 1 Axes>"
      ]
     },
     "metadata": {
      "needs_background": "light"
     },
     "output_type": "display_data"
    }
   ],
   "source": [
    "sns.boxplot(y=\"oldpeak\", x=\"target\",hue=\"target\",data = df)"
   ]
  },
  {
   "cell_type": "code",
   "execution_count": null,
   "id": "ab8120b6",
   "metadata": {},
   "outputs": [
    {
     "name": "stdout",
     "output_type": "stream",
     "text": [
      "86 413 226 300\n"
     ]
    },
    {
     "data": {
      "image/png": "[encoded data removed]",
      "text/plain": [
       "<Figure size 432x288 with 1 Axes>"
      ]
     },
     "metadata": {
      "needs_background": "light"
     },
     "output_type": "display_data"
    }
   ],
   "source": [
    "thal_1 = df[df.sex == 0]\n",
    "thal_2 = df[df.sex == 1]\n",
    "thal_1_nor = np.sum(np.array(thal_1['target']) == 0)\n",
    "thal_2_nor = np.sum(np.array(thal_2['target']) == 0)\n",
    "thal_1_nnor = np.sum(np.array(thal_1['target']) == 1)\n",
    "thal_2_nnor = np.sum(np.array(thal_2['target']) == 1)\n",
    "nor = (thal_1_nor, thal_2_nor)\n",
    "not_nor = (thal_1_nnor, thal_2_nnor)\n",
    "\n",
    "ind = np.arange(len(nor)) \n",
    "width = 0.35 \n",
    "\n",
    "fig, ax = plt.subplots()\n",
    "rects1 = ax.bar(ind - width / 2, nor, width, label = 'Người bình thường')\n",
    "rects2 = ax.bar(ind + width / 2, not_nor, width, label = 'Người bệnh')\n",
    "\n",
    "ax.set_ylabel('Scores')\n",
    "ax.set_title('Khả năng mắc bệnh của nam và nữ')\n",
    "ax.set_xticks(ind)\n",
    "ax.set_xticklabels(('Nữ', 'Nam'))\n",
    "ax.legend()\n",
    "print(thal_1_nor,thal_2_nor,thal_1_nnor,thal_2_nnor)\n",
    "plt.show()"
   ]
  },
  {
   "cell_type": "markdown",
   "id": "0bf4f043",
   "metadata": {},
   "source": [
    "# Mô hình hóa"
   ]
  },
  {
   "cell_type": "code",
   "execution_count": null,
   "id": "3d287399",
   "metadata": {},
   "outputs": [
    {
     "name": "stdout",
     "output_type": "stream",
     "text": [
      "Optimization terminated successfully.\n",
      "         Current function value: 0.350681\n",
      "         Iterations 7\n"
     ]
    },
    {
     "data": {
      "text/html": [
       "<table class=\"simpletable\">\n",
       "<caption>Logit Regression Results</caption>\n",
       "<tr>\n",
       "  <th>Dep. Variable:</th>        <td>target</td>      <th>  No. Observations:  </th>   <td>  1025</td>  \n",
       "</tr>\n",
       "<tr>\n",
       "  <th>Model:</th>                 <td>Logit</td>      <th>  Df Residuals:      </th>   <td>  1011</td>  \n",
       "</tr>\n",
       "<tr>\n",
       "  <th>Method:</th>                 <td>MLE</td>       <th>  Df Model:          </th>   <td>    13</td>  \n",
       "</tr>\n",
       "<tr>\n",
       "  <th>Date:</th>            <td>Wed, 15 Jun 2022</td> <th>  Pseudo R-squ.:     </th>   <td>0.4938</td>  \n",
       "</tr>\n",
       "<tr>\n",
       "  <th>Time:</th>                <td>17:45:32</td>     <th>  Log-Likelihood:    </th>  <td> -359.45</td> \n",
       "</tr>\n",
       "<tr>\n",
       "  <th>converged:</th>             <td>True</td>       <th>  LL-Null:           </th>  <td> -710.12</td> \n",
       "</tr>\n",
       "<tr>\n",
       "  <th>Covariance Type:</th>     <td>nonrobust</td>    <th>  LLR p-value:       </th> <td>1.777e-141</td>\n",
       "</tr>\n",
       "</table>\n",
       "<table class=\"simpletable\">\n",
       "<tr>\n",
       "      <td></td>        <th>coef</th>     <th>std err</th>      <th>z</th>      <th>P>|z|</th>  <th>[0.025</th>    <th>0.975]</th>  \n",
       "</tr>\n",
       "<tr>\n",
       "  <th>const</th>    <td>    3.6902</td> <td>    1.401</td> <td>    2.633</td> <td> 0.008</td> <td>    0.944</td> <td>    6.437</td>\n",
       "</tr>\n",
       "<tr>\n",
       "  <th>age</th>      <td>   -0.0082</td> <td>    0.013</td> <td>   -0.650</td> <td> 0.516</td> <td>   -0.033</td> <td>    0.017</td>\n",
       "</tr>\n",
       "<tr>\n",
       "  <th>sex</th>      <td>   -1.8465</td> <td>    0.257</td> <td>   -7.197</td> <td> 0.000</td> <td>   -2.349</td> <td>   -1.344</td>\n",
       "</tr>\n",
       "<tr>\n",
       "  <th>cp</th>       <td>    0.8546</td> <td>    0.100</td> <td>    8.516</td> <td> 0.000</td> <td>    0.658</td> <td>    1.051</td>\n",
       "</tr>\n",
       "<tr>\n",
       "  <th>trestbps</th> <td>   -0.0182</td> <td>    0.006</td> <td>   -3.245</td> <td> 0.001</td> <td>   -0.029</td> <td>   -0.007</td>\n",
       "</tr>\n",
       "<tr>\n",
       "  <th>chol</th>     <td>   -0.0057</td> <td>    0.002</td> <td>   -2.757</td> <td> 0.006</td> <td>   -0.010</td> <td>   -0.002</td>\n",
       "</tr>\n",
       "<tr>\n",
       "  <th>fbs</th>      <td>   -0.1012</td> <td>    0.285</td> <td>   -0.355</td> <td> 0.723</td> <td>   -0.659</td> <td>    0.457</td>\n",
       "</tr>\n",
       "<tr>\n",
       "  <th>restecg</th>  <td>    0.4132</td> <td>    0.189</td> <td>    2.187</td> <td> 0.029</td> <td>    0.043</td> <td>    0.784</td>\n",
       "</tr>\n",
       "<tr>\n",
       "  <th>thalach</th>  <td>    0.0236</td> <td>    0.006</td> <td>    4.158</td> <td> 0.000</td> <td>    0.012</td> <td>    0.035</td>\n",
       "</tr>\n",
       "<tr>\n",
       "  <th>exang</th>    <td>   -0.9908</td> <td>    0.224</td> <td>   -4.418</td> <td> 0.000</td> <td>   -1.430</td> <td>   -0.551</td>\n",
       "</tr>\n",
       "<tr>\n",
       "  <th>oldpeak</th>  <td>   -0.5707</td> <td>    0.116</td> <td>   -4.920</td> <td> 0.000</td> <td>   -0.798</td> <td>   -0.343</td>\n",
       "</tr>\n",
       "<tr>\n",
       "  <th>slope</th>    <td>    0.5341</td> <td>    0.189</td> <td>    2.831</td> <td> 0.005</td> <td>    0.164</td> <td>    0.904</td>\n",
       "</tr>\n",
       "<tr>\n",
       "  <th>ca</th>       <td>   -0.7545</td> <td>    0.103</td> <td>   -7.321</td> <td> 0.000</td> <td>   -0.956</td> <td>   -0.553</td>\n",
       "</tr>\n",
       "<tr>\n",
       "  <th>thal</th>     <td>   -0.8861</td> <td>    0.156</td> <td>   -5.693</td> <td> 0.000</td> <td>   -1.191</td> <td>   -0.581</td>\n",
       "</tr>\n",
       "</table>"
      ],
      "text/plain": [
       "<class 'statsmodels.iolib.summary.Summary'>\n",
       "\"\"\"\n",
       "                           Logit Regression Results                           \n",
       "==============================================================================\n",
       "Dep. Variable:                 target   No. Observations:                 1025\n",
       "Model:                          Logit   Df Residuals:                     1011\n",
       "Method:                           MLE   Df Model:                           13\n",
       "Date:                Wed, 15 Jun 2022   Pseudo R-squ.:                  0.4938\n",
       "Time:                        17:45:32   Log-Likelihood:                -359.45\n",
       "converged:                       True   LL-Null:                       -710.12\n",
       "Covariance Type:            nonrobust   LLR p-value:                1.777e-141\n",
       "==============================================================================\n",
       "                 coef    std err          z      P>|z|      [0.025      0.975]\n",
       "------------------------------------------------------------------------------\n",
       "const          3.6902      1.401      2.633      0.008       0.944       6.437\n",
       "age           -0.0082      0.013     -0.650      0.516      -0.033       0.017\n",
       "sex           -1.8465      0.257     -7.197      0.000      -2.349      -1.344\n",
       "cp             0.8546      0.100      8.516      0.000       0.658       1.051\n",
       "trestbps      -0.0182      0.006     -3.245      0.001      -0.029      -0.007\n",
       "chol          -0.0057      0.002     -2.757      0.006      -0.010      -0.002\n",
       "fbs           -0.1012      0.285     -0.355      0.723      -0.659       0.457\n",
       "restecg        0.4132      0.189      2.187      0.029       0.043       0.784\n",
       "thalach        0.0236      0.006      4.158      0.000       0.012       0.035\n",
       "exang         -0.9908      0.224     -4.418      0.000      -1.430      -0.551\n",
       "oldpeak       -0.5707      0.116     -4.920      0.000      -0.798      -0.343\n",
       "slope          0.5341      0.189      2.831      0.005       0.164       0.904\n",
       "ca            -0.7545      0.103     -7.321      0.000      -0.956      -0.553\n",
       "thal          -0.8861      0.156     -5.693      0.000      -1.191      -0.581\n",
       "==============================================================================\n",
       "\"\"\""
      ]
     },
     "execution_count": 28,
     "metadata": {},
     "output_type": "execute_result"
    }
   ],
   "source": [
    "import statsmodels.api as sm\n",
    "from sklearn.model_selection import train_test_split\n",
    "x = df.drop(columns = 'target')\n",
    "y = df['target']\n",
    "# Chia tập dữ liệu thành 80% data cho train và 20% dữ liệu cho test \n",
    "x_train,x_test,y_train,y_test = train_test_split(x, y, test_size= 0.20, random_state = 2)\n",
    "\n",
    "logit_model = sm.Logit(y, sm.add_constant(x)).fit()\n",
    "logit_model.summary()"
   ]
  },
  {
   "cell_type": "code",
   "execution_count": null,
   "id": "7e2a23a8",
   "metadata": {},
   "outputs": [
    {
     "name": "stdout",
     "output_type": "stream",
     "text": [
      "[0 1]\n"
     ]
    },
    {
     "data": {
      "text/plain": [
       "Counter({1: 426, 0: 394})"
      ]
     },
     "execution_count": 29,
     "metadata": {},
     "output_type": "execute_result"
    }
   ],
   "source": [
    "# Kiểm tra dữ liệu có được chia đều chưa\n",
    "from collections import Counter\n",
    "print(y_test.unique())\n",
    "Counter(y_train)"
   ]
  },
  {
   "cell_type": "code",
   "execution_count": null,
   "id": "05f36c14",
   "metadata": {},
   "outputs": [
    {
     "name": "stderr",
     "output_type": "stream",
     "text": [
      "c:\\Users\\Bo Xuong Biet Mua\\AppData\\Local\\Programs\\Python\\Python310\\lib\\site-packages\\sklearn\\linear_model\\_logistic.py:444: ConvergenceWarning: lbfgs failed to converge (status=1):\n",
      "STOP: TOTAL NO. of ITERATIONS REACHED LIMIT.\n",
      "\n",
      "Increase the number of iterations (max_iter) or scale the data as shown in:\n",
      "    https://scikit-learn.org/stable/modules/preprocessing.html\n",
      "Please also refer to the documentation for alternative solver options:\n",
      "    https://scikit-learn.org/stable/modules/linear_model.html#logistic-regression\n",
      "  n_iter_i = _check_optimize_result(\n"
     ]
    },
    {
     "data": {
      "text/html": [
       "<style>#sk-container-id-2 {color: black;background-color: white;}#sk-container-id-2 pre{padding: 0;}#sk-container-id-2 div.sk-toggleable {background-color: white;}#sk-container-id-2 label.sk-toggleable__label {cursor: pointer;display: block;width: 100%;margin-bottom: 0;padding: 0.3em;box-sizing: border-box;text-align: center;}#sk-container-id-2 label.sk-toggleable__label-arrow:before {content: \"▸\";float: left;margin-right: 0.25em;color: #696969;}#sk-container-id-2 label.sk-toggleable__label-arrow:hover:before {color: black;}#sk-container-id-2 div.sk-estimator:hover label.sk-toggleable__label-arrow:before {color: black;}#sk-container-id-2 div.sk-toggleable__content {max-height: 0;max-width: 0;overflow: hidden;text-align: left;background-color: #f0f8ff;}#sk-container-id-2 div.sk-toggleable__content pre {margin: 0.2em;color: black;border-radius: 0.25em;background-color: #f0f8ff;}#sk-container-id-2 input.sk-toggleable__control:checked~div.sk-toggleable__content {max-height: 200px;max-width: 100%;overflow: auto;}#sk-container-id-2 input.sk-toggleable__control:checked~label.sk-toggleable__label-arrow:before {content: \"▾\";}#sk-container-id-2 div.sk-estimator input.sk-toggleable__control:checked~label.sk-toggleable__label {background-color: #d4ebff;}#sk-container-id-2 div.sk-label input.sk-toggleable__control:checked~label.sk-toggleable__label {background-color: #d4ebff;}#sk-container-id-2 input.sk-hidden--visually {border: 0;clip: rect(1px 1px 1px 1px);clip: rect(1px, 1px, 1px, 1px);height: 1px;margin: -1px;overflow: hidden;padding: 0;position: absolute;width: 1px;}#sk-container-id-2 div.sk-estimator {font-family: monospace;background-color: #f0f8ff;border: 1px dotted black;border-radius: 0.25em;box-sizing: border-box;margin-bottom: 0.5em;}#sk-container-id-2 div.sk-estimator:hover {background-color: #d4ebff;}#sk-container-id-2 div.sk-parallel-item::after {content: \"\";width: 100%;border-bottom: 1px solid gray;flex-grow: 1;}#sk-container-id-2 div.sk-label:hover label.sk-toggleable__label {background-color: #d4ebff;}#sk-container-id-2 div.sk-serial::before {content: \"\";position: absolute;border-left: 1px solid gray;box-sizing: border-box;top: 0;bottom: 0;left: 50%;z-index: 0;}#sk-container-id-2 div.sk-serial {display: flex;flex-direction: column;align-items: center;background-color: white;padding-right: 0.2em;padding-left: 0.2em;position: relative;}#sk-container-id-2 div.sk-item {position: relative;z-index: 1;}#sk-container-id-2 div.sk-parallel {display: flex;align-items: stretch;justify-content: center;background-color: white;position: relative;}#sk-container-id-2 div.sk-item::before, #sk-container-id-2 div.sk-parallel-item::before {content: \"\";position: absolute;border-left: 1px solid gray;box-sizing: border-box;top: 0;bottom: 0;left: 50%;z-index: -1;}#sk-container-id-2 div.sk-parallel-item {display: flex;flex-direction: column;z-index: 1;position: relative;background-color: white;}#sk-container-id-2 div.sk-parallel-item:first-child::after {align-self: flex-end;width: 50%;}#sk-container-id-2 div.sk-parallel-item:last-child::after {align-self: flex-start;width: 50%;}#sk-container-id-2 div.sk-parallel-item:only-child::after {width: 0;}#sk-container-id-2 div.sk-dashed-wrapped {border: 1px dashed gray;margin: 0 0.4em 0.5em 0.4em;box-sizing: border-box;padding-bottom: 0.4em;background-color: white;}#sk-container-id-2 div.sk-label label {font-family: monospace;font-weight: bold;display: inline-block;line-height: 1.2em;}#sk-container-id-2 div.sk-label-container {text-align: center;}#sk-container-id-2 div.sk-container {/* jupyter's `normalize.less` sets `[hidden] { display: none; }` but bootstrap.min.css set `[hidden] { display: none !important; }` so we also need the `!important` here to be able to override the default hidden behavior on the sphinx rendered scikit-learn.org. See: https://github.com/scikit-learn/scikit-learn/issues/21755 */display: inline-block !important;position: relative;}#sk-container-id-2 div.sk-text-repr-fallback {display: none;}</style><div id=\"sk-container-id-2\" class=\"sk-top-container\"><div class=\"sk-text-repr-fallback\"><pre>LogisticRegression()</pre><b>In a Jupyter environment, please rerun this cell to show the HTML representation or trust the notebook. <br />On GitHub, the HTML representation is unable to render, please try loading this page with nbviewer.org.</b></div><div class=\"sk-container\" hidden><div class=\"sk-item\"><div class=\"sk-estimator sk-toggleable\"><input class=\"sk-toggleable__control sk-hidden--visually\" id=\"sk-estimator-id-2\" type=\"checkbox\" checked><label for=\"sk-estimator-id-2\" class=\"sk-toggleable__label sk-toggleable__label-arrow\">LogisticRegression</label><div class=\"sk-toggleable__content\"><pre>LogisticRegression()</pre></div></div></div></div></div>"
      ],
      "text/plain": [
       "LogisticRegression()"
      ]
     },
     "execution_count": 30,
     "metadata": {},
     "output_type": "execute_result"
    }
   ],
   "source": [
    "# Lập mô hình bằng thuật toán hồi quy logistic\n",
    "from sklearn.metrics import confusion_matrix, accuracy_score, precision_score, recall_score\n",
    "from sklearn.linear_model import LogisticRegression\n",
    "\n",
    "lr = LogisticRegression() # Tạo đối tượng đại diện cho mô hình\n",
    "lr.fit(x_train, y_train) # fit đào tạo mô hình"
   ]
  },
  {
   "cell_type": "code",
   "execution_count": null,
   "id": "ca2a7739",
   "metadata": {},
   "outputs": [
    {
     "data": {
      "text/plain": [
       "array([0, 1, 0, 0, 1, 1, 0, 0, 0, 1, 1, 0, 1, 1, 1, 1, 1, 0, 1, 1, 1, 1,\n",
       "       1, 0, 0, 1, 0, 1, 0, 0, 0, 0, 1, 0, 0, 1, 1, 1, 1, 1, 1, 0, 1, 1,\n",
       "       0, 1, 1, 1, 1, 0, 1, 0, 0, 0, 0, 1, 1, 1, 1, 1, 1, 0, 1, 1, 1, 0,\n",
       "       0, 0, 0, 1, 1, 0, 0, 1, 1, 1, 1, 1, 0, 0, 0, 0, 1, 0, 1, 1, 1, 0,\n",
       "       0, 1, 0, 0, 1, 0, 1, 1, 1, 0, 1, 0, 1, 0, 1, 1, 0, 1, 1, 1, 1, 1,\n",
       "       0, 1, 0, 0, 0, 0, 1, 0, 0, 1, 1, 1, 1, 1, 1, 1, 1, 1, 0, 1, 1, 0,\n",
       "       1, 1, 0, 1, 1, 0, 1, 0, 1, 0, 0, 1, 1, 1, 1, 0, 0, 0, 0, 0, 0, 1,\n",
       "       1, 1, 0, 1, 0, 0, 1, 1, 1, 1, 0, 0, 1, 0, 1, 0, 1, 0, 1, 0, 0, 0,\n",
       "       1, 0, 0, 1, 1, 1, 1, 1, 1, 0, 0, 1, 1, 0, 1, 0, 1, 0, 1, 0, 0, 0,\n",
       "       0, 0, 1, 1, 1, 1, 0], dtype=int64)"
      ]
     },
     "execution_count": 31,
     "metadata": {},
     "output_type": "execute_result"
    }
   ],
   "source": [
    "## prediction của test data\n",
    "y_predict = lr.predict(x_test)\n",
    "y_predict"
   ]
  },
  {
   "cell_type": "code",
   "execution_count": null,
   "id": "bb223b58",
   "metadata": {},
   "outputs": [
    {
     "name": "stdout",
     "output_type": "stream",
     "text": [
      "Confussion matrix: \n",
      " [[82 23]\n",
      " [ 7 93]]\n",
      "True Positives(TP) =  82\n",
      "True Negatives(TN) =  93\n",
      "False Positives(FP) =  23\n",
      "False Negatives(FN) =  7\n"
     ]
    }
   ],
   "source": [
    "#Confusion Matrix: So sánh giá trị thực tế và giá trị dự đoán\n",
    "conf_matrix = confusion_matrix(y_test, y_predict) \n",
    "                                                  \n",
    "print(\"Confussion matrix: \\n\", conf_matrix)\n",
    "\n",
    "TP = conf_matrix[0,0] # Mô hình dự báo mắc bệnh và thực tế mắc bệnh\n",
    "TN = conf_matrix[1,1] # Mô hình dự báo không mắc bệnh và thực tế không mắc bệnh\n",
    "FP = conf_matrix[0,1] # Mô hình dự báo mắc bệnh và thực tế khách hàng không mắc bệnh\n",
    "FN = conf_matrix[1,0] # Mô hình dự báo không mắc bệnh và thực tế mắc bệnh\n",
    "# Xây dựng mô hình tốt với FP và FN nhỏ nhất có thể\n",
    "\n",
    "print('True Positives(TP) = ', TP)\n",
    "print('True Negatives(TN) = ', TN)\n",
    "print('False Positives(FP) = ', FP)\n",
    "print('False Negatives(FN) = ', FN)"
   ]
  },
  {
   "cell_type": "code",
   "execution_count": null,
   "id": "b851ba60",
   "metadata": {},
   "outputs": [
    {
     "name": "stdout",
     "output_type": "stream",
     "text": [
      "\n",
      "Độ chính xác toàn thể: 0.8536585365853658\n",
      "Sai số toàn thể:  0.14634146341463417\n"
     ]
    }
   ],
   "source": [
    "# Kết quả dự báo chính xác của mô hình => bao nhiêu % dự đoán chính xác\n",
    "acc_score = accuracy_score(y_test, y_predict)  \n",
    "print(\"\\nĐộ chính xác toàn thể:\", acc_score)\n",
    "print(\"Sai số toàn thể: \", 1 - acc_score) #=> Tỷ lệ % quan sát dự báo sai\n"
   ]
  },
  {
   "cell_type": "code",
   "execution_count": null,
   "id": "0eb5b0f8",
   "metadata": {},
   "outputs": [
    {
     "name": "stdout",
     "output_type": "stream",
     "text": [
      "Precision =  0.8017241379310345\n"
     ]
    }
   ],
   "source": [
    "Precision = precision_score(y_test, y_predict)\n",
    "print(\"Precision = \", Precision)"
   ]
  },
  {
   "cell_type": "code",
   "execution_count": null,
   "id": "5119e030",
   "metadata": {},
   "outputs": [
    {
     "name": "stdout",
     "output_type": "stream",
     "text": [
      "Độ nhạy =  0.93\n",
      "Sai số âm tính giả =  0.06999999999999995\n"
     ]
    }
   ],
   "source": [
    "# Recall(Độ nhạy): Trong số những người thực tế bị mắc bệnh, bao nhiêu % được dự đoán mắc bệnh\n",
    "Recall = recall_score(y_test, y_predict)\n",
    "print(\"Độ nhạy = \", Recall)\n",
    "print(\"Sai số âm tính giả = \", 1 - Recall)"
   ]
  },
  {
   "cell_type": "code",
   "execution_count": null,
   "id": "6558b968",
   "metadata": {},
   "outputs": [
    {
     "name": "stdout",
     "output_type": "stream",
     "text": [
      "Độ đăc hiệu =  0.8017241379310345\n",
      "Sai số dương tính giả =  0.19827586206896552\n"
     ]
    }
   ],
   "source": [
    "# Specifycity(Độ đặc hiệu): Trong số những ngươi thực tế không mắc bệnh, bao nhiêu % được mô hình dự đoán không mắc bệnh\n",
    "Specifycity = TN / (TN + FP)\n",
    "print(\"Độ đăc hiệu = \", Specifycity)\n",
    "print(\"Sai số dương tính giả = \", 1 - Specifycity)"
   ]
  },
  {
   "cell_type": "code",
   "execution_count": null,
   "id": "41248666",
   "metadata": {},
   "outputs": [
    {
     "name": "stdout",
     "output_type": "stream",
     "text": [
      "F1_Score =  0.8611111111111112\n"
     ]
    }
   ],
   "source": [
    "# F1 Score: Giúp dung hòa cân bằng giữa Recall và Precision\n",
    "F1_Score = 2*(Recall * Precision) / (Recall + Precision)\n",
    "print(\"F1_Score = \", F1_Score)"
   ]
  },
  {
   "cell_type": "markdown",
   "id": "a827d784",
   "metadata": {},
   "source": [
    "##### => Vì có độ nhạy và độ đặc hiệu lớn, đồng thời giá trị F1 cũng khá cao nên mô hình này khá tốt"
   ]
  },
  {
   "cell_type": "markdown",
   "id": "e1a4240c",
   "metadata": {},
   "source": []
  }
 ],
 "metadata": {
  "kernelspec": {
   "display_name": "Python 3.10.2 64-bit",
   "language": "python",
   "name": "python3"
  },
  "language_info": {
   "codemirror_mode": {
    "name": "ipython",
    "version": 3
   },
   "file_extension": ".py",
   "mimetype": "text/x-python",
   "name": "python",
   "nbconvert_exporter": "python",
   "pygments_lexer": "ipython3",
   "version": "3.10.2"
  },
  "vscode": {
   "interpreter": {
    "hash": "0a98f78ede8c5af3fabf0611f40463c00f786e31cc4ea43e4609ea0a9fcf2049"
   }
  }
 },
 "nbformat": 4,
 "nbformat_minor": 5
}
